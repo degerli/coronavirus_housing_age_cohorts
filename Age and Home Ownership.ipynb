{
 "cells": [
  {
   "cell_type": "markdown",
   "metadata": {},
   "source": [
    "# Possible Effect of COVID-19 on Housing Markets"
   ]
  },
  {
   "cell_type": "markdown",
   "metadata": {},
   "source": [
    "Disclaimer: This post is speculative. Most of the epidemiological metrics currently available for COVID-19 are estimates and the projections below, based on these metrics, could therefore be incorrect. The models are also very simple."
   ]
  },
  {
   "cell_type": "markdown",
   "metadata": {},
   "source": [
    "Unlike previous posts, this one will have the information first and the technical details about it below, along with sources and code. Essentially we use the class `CountryData` to hold the demographic information of a country (scraped from the web) along with home ownership data for that country as well as a dictionary giving the death rate for the coronavirus by age cohort, and finally an infection rate. From this we can do some multiplication (rather, Python can) and work out the homeowner death rate by age cohort. From that we can then estimate how many house will be left without an ower by crudely multiplying it by the current ratio of houses to homeowners.\n",
    "\n",
    "First we create an instance of `CountryData` with the country code to get the correct url (the year is set to the default 2019, but can be changed)."
   ]
  },
  {
   "cell_type": "code",
   "execution_count": 20,
   "metadata": {},
   "outputs": [],
   "source": [
    "USA=CountryData(country_keys['united-states-of-america'])"
   ]
  },
  {
   "cell_type": "markdown",
   "metadata": {},
   "source": [
    "It now needs to know the number of homeowners in the US, as well as the demographic information."
   ]
  },
  {
   "cell_type": "code",
   "execution_count": 21,
   "metadata": {},
   "outputs": [],
   "source": [
    "USA.total_homes=138537078"
   ]
  },
  {
   "cell_type": "markdown",
   "metadata": {},
   "source": [
    "We can de a quick check to see if that worked:"
   ]
  },
  {
   "cell_type": "code",
   "execution_count": 22,
   "metadata": {},
   "outputs": [
    {
     "data": {
      "text/html": [
       "<div>\n",
       "<style scoped>\n",
       "    .dataframe tbody tr th:only-of-type {\n",
       "        vertical-align: middle;\n",
       "    }\n",
       "\n",
       "    .dataframe tbody tr th {\n",
       "        vertical-align: top;\n",
       "    }\n",
       "\n",
       "    .dataframe thead th {\n",
       "        text-align: right;\n",
       "    }\n",
       "</style>\n",
       "<table border=\"1\" class=\"dataframe\">\n",
       "  <thead>\n",
       "    <tr style=\"text-align: right;\">\n",
       "      <th></th>\n",
       "      <th>population_size</th>\n",
       "    </tr>\n",
       "  </thead>\n",
       "  <tbody>\n",
       "    <tr>\n",
       "      <td>(0, 4)</td>\n",
       "      <td>19604096.0</td>\n",
       "    </tr>\n",
       "    <tr>\n",
       "      <td>(5, 9)</td>\n",
       "      <td>20287749.0</td>\n",
       "    </tr>\n",
       "    <tr>\n",
       "      <td>(10, 14)</td>\n",
       "      <td>21147469.0</td>\n",
       "    </tr>\n",
       "    <tr>\n",
       "      <td>(15, 19)</td>\n",
       "      <td>21250602.0</td>\n",
       "    </tr>\n",
       "    <tr>\n",
       "      <td>(20, 24)</td>\n",
       "      <td>22435967.0</td>\n",
       "    </tr>\n",
       "    <tr>\n",
       "      <td>(25, 29)</td>\n",
       "      <td>23743098.0</td>\n",
       "    </tr>\n",
       "    <tr>\n",
       "      <td>(30, 34)</td>\n",
       "      <td>22703421.0</td>\n",
       "    </tr>\n",
       "    <tr>\n",
       "      <td>(35, 39)</td>\n",
       "      <td>21276648.0</td>\n",
       "    </tr>\n",
       "    <tr>\n",
       "      <td>(40, 44)</td>\n",
       "      <td>20151573.0</td>\n",
       "    </tr>\n",
       "    <tr>\n",
       "      <td>(45, 49)</td>\n",
       "      <td>20136867.0</td>\n",
       "    </tr>\n",
       "    <tr>\n",
       "      <td>(50, 54)</td>\n",
       "      <td>20866464.0</td>\n",
       "    </tr>\n",
       "    <tr>\n",
       "      <td>(55, 59)</td>\n",
       "      <td>21691222.0</td>\n",
       "    </tr>\n",
       "    <tr>\n",
       "      <td>(60, 64)</td>\n",
       "      <td>20429652.0</td>\n",
       "    </tr>\n",
       "    <tr>\n",
       "      <td>(65, 69)</td>\n",
       "      <td>17415446.0</td>\n",
       "    </tr>\n",
       "    <tr>\n",
       "      <td>(70, 74)</td>\n",
       "      <td>13758858.0</td>\n",
       "    </tr>\n",
       "    <tr>\n",
       "      <td>(75, 79)</td>\n",
       "      <td>9250376.0</td>\n",
       "    </tr>\n",
       "    <tr>\n",
       "      <td>(80, 84)</td>\n",
       "      <td>6245265.0</td>\n",
       "    </tr>\n",
       "    <tr>\n",
       "      <td>(85, 89)</td>\n",
       "      <td>3862946.0</td>\n",
       "    </tr>\n",
       "    <tr>\n",
       "      <td>(90, 94)</td>\n",
       "      <td>2053727.0</td>\n",
       "    </tr>\n",
       "    <tr>\n",
       "      <td>(95, 99)</td>\n",
       "      <td>663522.0</td>\n",
       "    </tr>\n",
       "    <tr>\n",
       "      <td>(100, 200)</td>\n",
       "      <td>89949.0</td>\n",
       "    </tr>\n",
       "  </tbody>\n",
       "</table>\n",
       "</div>"
      ],
      "text/plain": [
       "            population_size\n",
       "(0, 4)           19604096.0\n",
       "(5, 9)           20287749.0\n",
       "(10, 14)         21147469.0\n",
       "(15, 19)         21250602.0\n",
       "(20, 24)         22435967.0\n",
       "(25, 29)         23743098.0\n",
       "(30, 34)         22703421.0\n",
       "(35, 39)         21276648.0\n",
       "(40, 44)         20151573.0\n",
       "(45, 49)         20136867.0\n",
       "(50, 54)         20866464.0\n",
       "(55, 59)         21691222.0\n",
       "(60, 64)         20429652.0\n",
       "(65, 69)         17415446.0\n",
       "(70, 74)         13758858.0\n",
       "(75, 79)          9250376.0\n",
       "(80, 84)          6245265.0\n",
       "(85, 89)          3862946.0\n",
       "(90, 94)          2053727.0\n",
       "(95, 99)           663522.0\n",
       "(100, 200)          89949.0"
      ]
     },
     "execution_count": 22,
     "metadata": {},
     "output_type": "execute_result"
    }
   ],
   "source": [
    "USA.show_population()"
   ]
  },
  {
   "cell_type": "markdown",
   "metadata": {},
   "source": [
    "Using the dictionary `homeownership_rates` below (see Sources section for details), we can get the housing data:"
   ]
  },
  {
   "cell_type": "code",
   "execution_count": 23,
   "metadata": {},
   "outputs": [],
   "source": [
    "USA.get_home_ownership_dictionary(homeownership_rates)"
   ]
  },
  {
   "cell_type": "markdown",
   "metadata": {},
   "source": [
    "Here we can see what share different age groups have of the housing market. This shows how many homeowners belong to each group (the large number of owners younger than 25 is surprising)."
   ]
  },
  {
   "cell_type": "code",
   "execution_count": 24,
   "metadata": {},
   "outputs": [
    {
     "data": {
      "text/plain": [
       "<matplotlib.axes._subplots.AxesSubplot at 0x1416e57b0c8>"
      ]
     },
     "execution_count": 24,
     "metadata": {},
     "output_type": "execute_result"
    },
    {
     "data": {
      "image/png": "[encoded data removed]",
      "text/plain": [
       "<Figure size 1008x432 with 1 Axes>"
      ]
     },
     "metadata": {
      "needs_background": "light"
     },
     "output_type": "display_data"
    }
   ],
   "source": [
    "USA.show_homeownership_share().plot(kind='bar', figsize=(14,6), rot=0)"
   ]
  },
  {
   "cell_type": "markdown",
   "metadata": {},
   "source": [
    "Next we include the death rates, from [worldmeters.info](https://www.worldometers.info/coronavirus/coronavirus-age-sex-demographics/) (see Sources for more details)."
   ]
  },
  {
   "cell_type": "code",
   "execution_count": 25,
   "metadata": {},
   "outputs": [],
   "source": [
    "USA.get_homeowner_death_rates(coronavirus_death_dict_raw)"
   ]
  },
  {
   "cell_type": "markdown",
   "metadata": {},
   "source": [
    "Finally, we can chart the expected number of houses left vacant for a range of infection rates (i.e. proportion of the population that get infected). We need the number of houses because the number of homeowners is not the same (it is about $50\\%$ larger). This is likely due to most houses having more than one owner. To correct for this, we multiply the number of expected dead homeowners by the ratio of houses to homeowners, giving a rough estimate of how many houses will be ownerless."
   ]
  },
  {
   "cell_type": "code",
   "execution_count": 26,
   "metadata": {},
   "outputs": [],
   "source": [
    "infection_rates=np.arange(0.00, 1.05, 0.05)\n",
    "vacant_homes_list=[USA.get_vacant_homes(rate)/(10**6) for rate in infection_rates]"
   ]
  },
  {
   "cell_type": "code",
   "execution_count": 27,
   "metadata": {},
   "outputs": [
    {
     "data": {
      "image/png": "[encoded data removed]",
      "text/plain": [
       "<Figure size 864x576 with 1 Axes>"
      ]
     },
     "metadata": {},
     "output_type": "display_data"
    }
   ],
   "source": [
    "x=list(map(lambda x : str(int(x*100))+'%',infection_rates))\n",
    "y=vacant_homes_list\n",
    "sns.set_style('darkgrid')\n",
    "plt.figure(figsize=(12,8))\n",
    "plt.plot(x, y, marker='o', color='r')\n",
    "plt.xlabel('Infection Rate')\n",
    "plt.yticks(np.arange(y[0], y[-1]+0.25, 0.25))\n",
    "plt.ylabel('Vacant Homes (millions)')\n",
    "plt.title('Estimated Vacant Homes in the US by Infection Rate')\n",
    "plt.show()"
   ]
  },
  {
   "cell_type": "markdown",
   "metadata": {},
   "source": [
    "In recent years the number of houses sold per year in the US has been between 5 and 5.5 million. This shows that even at a very low infection rate the number of houses on the market could increase significantly. Some have estimated that the infection rate could be as high as $70\\%$, which would imply about an extra 2.5 million homes on the market. Even a lower figure of $40\\%$ would give an extra 1.5 million houses."
   ]
  },
  {
   "cell_type": "markdown",
   "metadata": {},
   "source": [
    "For comparison, we can look at the number of deaths by different infection rates (this is also a simple linear model)."
   ]
  },
  {
   "cell_type": "code",
   "execution_count": 28,
   "metadata": {},
   "outputs": [
    {
     "data": {
      "image/png": "[encoded data removed]",
      "text/plain": [
       "<Figure size 864x576 with 1 Axes>"
      ]
     },
     "metadata": {},
     "output_type": "display_data"
    }
   ],
   "source": [
    "y=[int(USA.get_population_deaths(rate).sum())/(10**6) for rate in infection_rates]\n",
    "plt.figure(figsize=(12,8))\n",
    "plt.plot(x, y, marker='o', color='r')\n",
    "plt.xlabel('Infection Rate')\n",
    "plt.yticks(np.arange(y[0], y[-1]+0.05, 0.5))\n",
    "plt.ylabel('Number of Deaths (millions)')\n",
    "plt.title('Estimated Number of US Deaths by Infection Rate')\n",
    "plt.show()"
   ]
  },
  {
   "cell_type": "markdown",
   "metadata": {},
   "source": [
    "Below is a bar chart showing the number of deaths by age cohort. Since the number of deaths is directly proportional to the infection rate, the bar chart will look the same for all (non-zero) infection rates, but with larger numbers on the $y$ axis for larger infection rates. A rate of $40\\%$ is used."
   ]
  },
  {
   "cell_type": "code",
   "execution_count": 29,
   "metadata": {},
   "outputs": [
    {
     "data": {
      "text/plain": [
       "<matplotlib.axes._subplots.AxesSubplot at 0x1416e8c5988>"
      ]
     },
     "execution_count": 29,
     "metadata": {},
     "output_type": "execute_result"
    },
    {
     "data": {
      "image/png": "[encoded data removed]",
      "text/plain": [
       "<Figure size 1152x432 with 1 Axes>"
      ]
     },
     "metadata": {},
     "output_type": "display_data"
    }
   ],
   "source": [
    "USA.get_population_deaths(0.4).plot(kind='bar', figsize=(16,6), rot=0)"
   ]
  },
  {
   "cell_type": "markdown",
   "metadata": {},
   "source": [
    "For comparison, we can do the same analysis for Ireland. Ireland was chosen for two reasons, neither of which are very good, but good enough:\n",
    "1. The housing data is easy to access.\n",
    "2. I am Irish."
   ]
  },
  {
   "cell_type": "code",
   "execution_count": 30,
   "metadata": {},
   "outputs": [],
   "source": [
    "Ireland=CountryData(country_keys['ireland'])"
   ]
  },
  {
   "cell_type": "markdown",
   "metadata": {},
   "source": [
    "The dictionary used below is from [Irish National Economic and Social Council](http://files.nesc.ie/nesc_reports/en/140_Homeownership_and_Rental.pdf)."
   ]
  },
  {
   "cell_type": "code",
   "execution_count": 31,
   "metadata": {},
   "outputs": [
    {
     "data": {
      "text/html": [
       "<div>\n",
       "<style scoped>\n",
       "    .dataframe tbody tr th:only-of-type {\n",
       "        vertical-align: middle;\n",
       "    }\n",
       "\n",
       "    .dataframe tbody tr th {\n",
       "        vertical-align: top;\n",
       "    }\n",
       "\n",
       "    .dataframe thead th {\n",
       "        text-align: right;\n",
       "    }\n",
       "</style>\n",
       "<table border=\"1\" class=\"dataframe\">\n",
       "  <thead>\n",
       "    <tr style=\"text-align: right;\">\n",
       "      <th></th>\n",
       "      <th>share_of_housing_stock</th>\n",
       "    </tr>\n",
       "  </thead>\n",
       "  <tbody>\n",
       "    <tr>\n",
       "      <td>(0, 24)</td>\n",
       "      <td>0.058983</td>\n",
       "    </tr>\n",
       "    <tr>\n",
       "      <td>(25, 34)</td>\n",
       "      <td>0.100915</td>\n",
       "    </tr>\n",
       "    <tr>\n",
       "      <td>(35, 44)</td>\n",
       "      <td>0.215335</td>\n",
       "    </tr>\n",
       "    <tr>\n",
       "      <td>(45, 54)</td>\n",
       "      <td>0.208200</td>\n",
       "    </tr>\n",
       "    <tr>\n",
       "      <td>(55, 64)</td>\n",
       "      <td>0.175955</td>\n",
       "    </tr>\n",
       "    <tr>\n",
       "      <td>(65, 200)</td>\n",
       "      <td>0.240612</td>\n",
       "    </tr>\n",
       "  </tbody>\n",
       "</table>\n",
       "</div>"
      ],
      "text/plain": [
       "           share_of_housing_stock\n",
       "(0, 24)                  0.058983\n",
       "(25, 34)                 0.100915\n",
       "(35, 44)                 0.215335\n",
       "(45, 54)                 0.208200\n",
       "(55, 64)                 0.175955\n",
       "(65, 200)                0.240612"
      ]
     },
     "execution_count": 31,
     "metadata": {},
     "output_type": "execute_result"
    }
   ],
   "source": [
    "Ireland.get_home_ownership_dictionary(ireland_dict)\n",
    "\n",
    "Ireland.show_homeownership_share()"
   ]
  },
  {
   "cell_type": "code",
   "execution_count": 32,
   "metadata": {},
   "outputs": [],
   "source": [
    "Ireland.get_homeowner_death_rates(coronavirus_death_dict_raw)\n",
    "Ireland.total_homes=1689300\n",
    "\n",
    "vacant_homes_list_Ireland=[Ireland.get_vacant_homes(rate) for rate in infection_rates]"
   ]
  },
  {
   "cell_type": "code",
   "execution_count": 33,
   "metadata": {},
   "outputs": [
    {
     "data": {
      "image/png": "[encoded data removed]",
      "text/plain": [
       "<Figure size 864x576 with 1 Axes>"
      ]
     },
     "metadata": {},
     "output_type": "display_data"
    }
   ],
   "source": [
    "y=vacant_homes_list_Ireland\n",
    "plt.figure(figsize=(12,8))\n",
    "plt.plot(x, y, marker='o', color='r')\n",
    "plt.xlabel('Infection Rate')\n",
    "plt.yticks(np.arange(y[0], y[-1]+2500, 2500))\n",
    "plt.ylabel('Vacant Homes')\n",
    "plt.title('Estimated Vacant Homes in Ireland by Infection Rate')\n",
    "plt.show()"
   ]
  },
  {
   "cell_type": "markdown",
   "metadata": {},
   "source": [
    "There were 61,733 houses sold in Ireland in 2019 (see the[ Irish CSO's webpage](https://statbank.cso.ie/px/pxeirestat/Database/eirestat/House%20Prices/House%20Prices_statbank.asp?SP=House%20Prices&Planguage=0) - it has remained in the 60,00-65,000 range for the past 3 years). As with the US, an infection rate of $70\\%$ would give an additional number of houses for sale equal to about half a typical recent year's housing sales."
   ]
  },
  {
   "cell_type": "code",
   "execution_count": 34,
   "metadata": {},
   "outputs": [
    {
     "data": {
      "image/png": "[encoded data removed]",
      "text/plain": [
       "<Figure size 864x576 with 1 Axes>"
      ]
     },
     "metadata": {},
     "output_type": "display_data"
    }
   ],
   "source": [
    "y=[int(Ireland.get_population_deaths(rate).sum()) for rate in infection_rates]\n",
    "plt.figure(figsize=(12,8))\n",
    "plt.plot(x, y, marker='o', color='r')\n",
    "plt.xlabel('Infection Rate')\n",
    "plt.yticks(np.arange(y[0], y[-1], 10000))\n",
    "plt.ylabel('Number of Deaths')\n",
    "plt.title('Estimated Number of Irish Deaths by Infection Rate')\n",
    "plt.show()"
   ]
  },
  {
   "cell_type": "markdown",
   "metadata": {},
   "source": [
    "Since the Irish population's average age is slightly lower than that of the US, the Irish death numbers are lower per capita. However, and for this reason, the distribution of Irish deaths by age cohort skews towards the younger end compared to the US."
   ]
  },
  {
   "cell_type": "code",
   "execution_count": 35,
   "metadata": {},
   "outputs": [
    {
     "data": {
      "text/plain": [
       "<matplotlib.axes._subplots.AxesSubplot at 0x1416ec5c948>"
      ]
     },
     "execution_count": 35,
     "metadata": {},
     "output_type": "execute_result"
    },
    {
     "data": {
      "image/png": "[encoded data removed]",
      "text/plain": [
       "<Figure size 1152x432 with 1 Axes>"
      ]
     },
     "metadata": {},
     "output_type": "display_data"
    }
   ],
   "source": [
    "Ireland.get_population_deaths(0.4).plot(kind='bar', figsize=(16,6), rot=0)"
   ]
  },
  {
   "cell_type": "markdown",
   "metadata": {},
   "source": [
    "# Sources and Code"
   ]
  },
  {
   "cell_type": "code",
   "execution_count": 1,
   "metadata": {},
   "outputs": [],
   "source": [
    "import pandas as pd\n",
    "import numpy as np\n",
    "import seaborn as sns\n",
    "import matplotlib.pyplot as plt\n",
    "import requests\n",
    "import json"
   ]
  },
  {
   "cell_type": "markdown",
   "metadata": {},
   "source": [
    "We are going to use the Python package OpenPyXL, with which one can read (and import via Pandas) Excel documents with Python. This project is not an ideal use case as the Excel file used below is small, but was nice to try out. The file is from the US Census Bureau, under the homeownership data section. Here, they give the homeownership rates for certain age cohorts. We want to find out how many people from different age cohorts own homes, whcih can be done once we have the demographic data."
   ]
  },
  {
   "cell_type": "code",
   "execution_count": 2,
   "metadata": {},
   "outputs": [],
   "source": [
    "from openpyxl import load_workbook"
   ]
  },
  {
   "cell_type": "code",
   "execution_count": 3,
   "metadata": {},
   "outputs": [],
   "source": [
    "wb=load_workbook('tab7.xlsx')"
   ]
  },
  {
   "cell_type": "markdown",
   "metadata": {},
   "source": [
    "After some exploration in Excel, the relevant part of the file is found:"
   ]
  },
  {
   "cell_type": "code",
   "execution_count": 4,
   "metadata": {},
   "outputs": [],
   "source": [
    "raw_home_df=pd.DataFrame(wb['Table 7'].values)[[0,2]][11:23]"
   ]
  },
  {
   "cell_type": "markdown",
   "metadata": {},
   "source": [
    "And here it is:"
   ]
  },
  {
   "cell_type": "code",
   "execution_count": 5,
   "metadata": {},
   "outputs": [
    {
     "data": {
      "text/html": [
       "<div>\n",
       "<style scoped>\n",
       "    .dataframe tbody tr th:only-of-type {\n",
       "        vertical-align: middle;\n",
       "    }\n",
       "\n",
       "    .dataframe tbody tr th {\n",
       "        vertical-align: top;\n",
       "    }\n",
       "\n",
       "    .dataframe thead th {\n",
       "        text-align: right;\n",
       "    }\n",
       "</style>\n",
       "<table border=\"1\" class=\"dataframe\">\n",
       "  <thead>\n",
       "    <tr style=\"text-align: right;\">\n",
       "      <th></th>\n",
       "      <th>0</th>\n",
       "      <th>2</th>\n",
       "    </tr>\n",
       "  </thead>\n",
       "  <tbody>\n",
       "    <tr>\n",
       "      <td>11</td>\n",
       "      <td>….Under 25 years.................................</td>\n",
       "      <td>24</td>\n",
       "    </tr>\n",
       "    <tr>\n",
       "      <td>12</td>\n",
       "      <td>….25 to 29 years.................................</td>\n",
       "      <td>33.4</td>\n",
       "    </tr>\n",
       "    <tr>\n",
       "      <td>13</td>\n",
       "      <td>….30 to 34 years.................................</td>\n",
       "      <td>48.9</td>\n",
       "    </tr>\n",
       "    <tr>\n",
       "      <td>14</td>\n",
       "      <td>….35 to 39 years.................................</td>\n",
       "      <td>57.8</td>\n",
       "    </tr>\n",
       "    <tr>\n",
       "      <td>15</td>\n",
       "      <td>….40 to 44 years.................................</td>\n",
       "      <td>63.2</td>\n",
       "    </tr>\n",
       "  </tbody>\n",
       "</table>\n",
       "</div>"
      ],
      "text/plain": [
       "                                                    0     2\n",
       "11  ….Under 25 years.................................    24\n",
       "12  ….25 to 29 years.................................  33.4\n",
       "13  ….30 to 34 years.................................  48.9\n",
       "14  ….35 to 39 years.................................  57.8\n",
       "15  ….40 to 44 years.................................  63.2"
      ]
     },
     "execution_count": 5,
     "metadata": {},
     "output_type": "execute_result"
    }
   ],
   "source": [
    "raw_home_df.head()"
   ]
  },
  {
   "cell_type": "markdown",
   "metadata": {},
   "source": [
    "This needs some cleaning."
   ]
  },
  {
   "cell_type": "code",
   "execution_count": 6,
   "metadata": {},
   "outputs": [],
   "source": [
    "def clean_df_year_range(s):\n",
    "    s=s.split('.')[1]\n",
    "    s=s.replace('years and over', 'to 200')\n",
    "    s=s.strip(' years')\n",
    "    s=s.replace('Under 25','0 to 24')\n",
    "    pair=s.split(' to ')\n",
    "    pair=tuple(map(int, pair))\n",
    "    return pair"
   ]
  },
  {
   "cell_type": "code",
   "execution_count": 7,
   "metadata": {},
   "outputs": [],
   "source": [
    "raw_home_df[0]=raw_home_df[0].apply(clean_df_year_range)"
   ]
  },
  {
   "cell_type": "code",
   "execution_count": 8,
   "metadata": {},
   "outputs": [],
   "source": [
    "raw_home_df.columns=[['age','home_ownership_rate']]"
   ]
  },
  {
   "cell_type": "code",
   "execution_count": 9,
   "metadata": {},
   "outputs": [
    {
     "data": {
      "text/html": [
       "<div>\n",
       "<style scoped>\n",
       "    .dataframe tbody tr th:only-of-type {\n",
       "        vertical-align: middle;\n",
       "    }\n",
       "\n",
       "    .dataframe tbody tr th {\n",
       "        vertical-align: top;\n",
       "    }\n",
       "\n",
       "    .dataframe thead tr th {\n",
       "        text-align: left;\n",
       "    }\n",
       "</style>\n",
       "<table border=\"1\" class=\"dataframe\">\n",
       "  <thead>\n",
       "    <tr>\n",
       "      <th></th>\n",
       "      <th>age</th>\n",
       "      <th>home_ownership_rate</th>\n",
       "    </tr>\n",
       "  </thead>\n",
       "  <tbody>\n",
       "    <tr>\n",
       "      <td>11</td>\n",
       "      <td>(0, 24)</td>\n",
       "      <td>24</td>\n",
       "    </tr>\n",
       "    <tr>\n",
       "      <td>12</td>\n",
       "      <td>(25, 29)</td>\n",
       "      <td>33.4</td>\n",
       "    </tr>\n",
       "    <tr>\n",
       "      <td>13</td>\n",
       "      <td>(30, 34)</td>\n",
       "      <td>48.9</td>\n",
       "    </tr>\n",
       "    <tr>\n",
       "      <td>14</td>\n",
       "      <td>(35, 39)</td>\n",
       "      <td>57.8</td>\n",
       "    </tr>\n",
       "    <tr>\n",
       "      <td>15</td>\n",
       "      <td>(40, 44)</td>\n",
       "      <td>63.2</td>\n",
       "    </tr>\n",
       "    <tr>\n",
       "      <td>16</td>\n",
       "      <td>(45, 49)</td>\n",
       "      <td>69</td>\n",
       "    </tr>\n",
       "    <tr>\n",
       "      <td>17</td>\n",
       "      <td>(50, 54)</td>\n",
       "      <td>72.1</td>\n",
       "    </tr>\n",
       "    <tr>\n",
       "      <td>18</td>\n",
       "      <td>(55, 59)</td>\n",
       "      <td>74.3</td>\n",
       "    </tr>\n",
       "    <tr>\n",
       "      <td>19</td>\n",
       "      <td>(60, 64)</td>\n",
       "      <td>77</td>\n",
       "    </tr>\n",
       "    <tr>\n",
       "      <td>20</td>\n",
       "      <td>(65, 69)</td>\n",
       "      <td>78.8</td>\n",
       "    </tr>\n",
       "    <tr>\n",
       "      <td>21</td>\n",
       "      <td>(70, 74)</td>\n",
       "      <td>80.5</td>\n",
       "    </tr>\n",
       "    <tr>\n",
       "      <td>22</td>\n",
       "      <td>(75, 200)</td>\n",
       "      <td>78.2</td>\n",
       "    </tr>\n",
       "  </tbody>\n",
       "</table>\n",
       "</div>"
      ],
      "text/plain": [
       "          age home_ownership_rate\n",
       "11    (0, 24)                  24\n",
       "12   (25, 29)                33.4\n",
       "13   (30, 34)                48.9\n",
       "14   (35, 39)                57.8\n",
       "15   (40, 44)                63.2\n",
       "16   (45, 49)                  69\n",
       "17   (50, 54)                72.1\n",
       "18   (55, 59)                74.3\n",
       "19   (60, 64)                  77\n",
       "20   (65, 69)                78.8\n",
       "21   (70, 74)                80.5\n",
       "22  (75, 200)                78.2"
      ]
     },
     "execution_count": 9,
     "metadata": {},
     "output_type": "execute_result"
    }
   ],
   "source": [
    "raw_home_df"
   ]
  },
  {
   "cell_type": "markdown",
   "metadata": {},
   "source": [
    "This is better, this is only needed as a dictionary."
   ]
  },
  {
   "cell_type": "code",
   "execution_count": 10,
   "metadata": {},
   "outputs": [],
   "source": [
    "homeownership_rates={}\n",
    "for i in range(len(raw_home_df)):\n",
    "    homeownership_rates[raw_home_df[['age']].values[i][0]]=raw_home_df[['home_ownership_rate']].values[i][0]/100"
   ]
  },
  {
   "cell_type": "code",
   "execution_count": 11,
   "metadata": {},
   "outputs": [
    {
     "data": {
      "text/plain": [
       "{(0, 24): 0.24,\n",
       " (25, 29): 0.33399999999999996,\n",
       " (30, 34): 0.489,\n",
       " (35, 39): 0.578,\n",
       " (40, 44): 0.632,\n",
       " (45, 49): 0.69,\n",
       " (50, 54): 0.721,\n",
       " (55, 59): 0.743,\n",
       " (60, 64): 0.77,\n",
       " (65, 69): 0.7879999999999999,\n",
       " (70, 74): 0.805,\n",
       " (75, 200): 0.782}"
      ]
     },
     "execution_count": 11,
     "metadata": {},
     "output_type": "execute_result"
    }
   ],
   "source": [
    "homeownership_rates"
   ]
  },
  {
   "cell_type": "markdown",
   "metadata": {},
   "source": [
    "## Getting the country code dictionary"
   ]
  },
  {
   "cell_type": "markdown",
   "metadata": {},
   "source": [
    "Now, the main tool we will use to hold the demographic information and all the statistics for each country will be class (skip below to the next section for the class's definition). First, we need to use the requests package to get demographic information (population sizes for each 5 year age cohort) from [populationpyramid.net](https://www.populationpyramid.net). We will also scrape a dictionary so we can just look this up for each country's URL code."
   ]
  },
  {
   "cell_type": "code",
   "execution_count": 12,
   "metadata": {},
   "outputs": [],
   "source": [
    "url='https://www.populationpyramid.net/world/2019/'\n",
    "text_data=requests.get(url).text"
   ]
  },
  {
   "cell_type": "markdown",
   "metadata": {},
   "source": [
    "Playing around with the page, it looks like each country's URL code is index with the country's name and the string `'country='` before it. So we will split with this string and then try to split each one using quotes, which are usually put around each country's name."
   ]
  },
  {
   "cell_type": "code",
   "execution_count": 13,
   "metadata": {},
   "outputs": [],
   "source": [
    "raw_list=text_data.split('country=')[1:]"
   ]
  },
  {
   "cell_type": "code",
   "execution_count": 14,
   "metadata": {},
   "outputs": [
    {
     "data": {
      "text/plain": [
       "['',\n",
       " '4',\n",
       " ' slug=',\n",
       " 'afghanistan',\n",
       " ' href=',\n",
       " '/afghanistan/2019/',\n",
       " '>Afghanistan</a>\\n<a class=',\n",
       " 'countryLink',\n",
       " ' ']"
      ]
     },
     "execution_count": 14,
     "metadata": {},
     "output_type": "execute_result"
    }
   ],
   "source": [
    "raw_list[0].split('\"')#then take 1 and 3"
   ]
  },
  {
   "cell_type": "markdown",
   "metadata": {},
   "source": [
    "With this we can make the dictionary:"
   ]
  },
  {
   "cell_type": "code",
   "execution_count": 15,
   "metadata": {},
   "outputs": [],
   "source": [
    "country_keys=dict(map(lambda x:(x.split('\"')[3], x.split('\"')[1]), raw_list))"
   ]
  },
  {
   "cell_type": "code",
   "execution_count": 16,
   "metadata": {},
   "outputs": [
    {
     "data": {
      "text/plain": [
       "{'afghanistan': '4',\n",
       " 'africa': '903',\n",
       " 'albania': '8',\n",
       " 'algeria': '12',\n",
       " 'angola': '24',\n",
       " 'antigua-and-barbuda': '28',\n",
       " 'argentina': '32',\n",
       " 'armenia': '51',\n",
       " 'aruba': '533',\n",
       " 'asia': '935',\n",
       " 'australia': '36',\n",
       " 'australianew-zealand': '927',\n",
       " 'austria': '40',\n",
       " 'azerbaijan': '31',\n",
       " 'bahamas': '44',\n",
       " 'bahrain': '48',\n",
       " 'bangladesh': '50',\n",
       " 'barbados': '52',\n",
       " 'belarus': '112',\n",
       " 'belgium': '56',\n",
       " 'belize': '84',\n",
       " 'benin': '204',\n",
       " 'bhutan': '64',\n",
       " 'bolivia-plurinational-state-of': '68',\n",
       " 'bosnia-and-herzegovina': '70',\n",
       " 'botswana': '72',\n",
       " 'brazil': '76',\n",
       " 'brunei-darussalam': '96',\n",
       " 'bulgaria': '100',\n",
       " 'burkina-faso': '854',\n",
       " 'burundi': '108',\n",
       " 'cabo-verde': '132',\n",
       " 'cambodia': '116',\n",
       " 'cameroon': '120',\n",
       " 'canada': '124',\n",
       " 'caribbean': '915',\n",
       " 'central-african-republic': '140',\n",
       " 'central-america': '916',\n",
       " 'central-asia': '5500',\n",
       " 'chad': '148',\n",
       " 'channel-islands': '830',\n",
       " 'chile': '152',\n",
       " 'china': '156',\n",
       " 'china-hong-kong-sar': '344',\n",
       " 'china-macao-sar': '446',\n",
       " 'colombia': '170',\n",
       " 'comoros': '174',\n",
       " 'congo': '178',\n",
       " 'costa-rica': '188',\n",
       " 'côte-divoire': '384',\n",
       " 'croatia': '191',\n",
       " 'cuba': '192',\n",
       " 'curaçao': '531',\n",
       " 'cyprus': '196',\n",
       " 'czech-republic': '203',\n",
       " 'democratic-republic-of-the-congo': '180',\n",
       " 'dem-peoples-republic-of-korea': '408',\n",
       " 'denmark': '208',\n",
       " 'djibouti': '262',\n",
       " 'dominican-republic': '214',\n",
       " 'eastern-africa': '910',\n",
       " 'eastern-asia': '906',\n",
       " 'eastern-europe': '923',\n",
       " 'ecuador': '218',\n",
       " 'egypt': '818',\n",
       " 'el-salvador': '222',\n",
       " 'equatorial-guinea': '226',\n",
       " 'eritrea': '232',\n",
       " 'estonia': '233',\n",
       " 'ethiopia': '231',\n",
       " 'europe': '908',\n",
       " 'fiji': '242',\n",
       " 'finland': '246',\n",
       " 'france': '250',\n",
       " 'french-guiana': '254',\n",
       " 'french-polynesia': '258',\n",
       " 'gabon': '266',\n",
       " 'gambia': '270',\n",
       " 'georgia': '268',\n",
       " 'germany': '276',\n",
       " 'ghana': '288',\n",
       " 'greece': '300',\n",
       " 'grenada': '308',\n",
       " 'guadeloupe': '312',\n",
       " 'guam': '316',\n",
       " 'guatemala': '320',\n",
       " 'guinea': '324',\n",
       " 'guinea-bissau': '624',\n",
       " 'guyana': '328',\n",
       " 'haiti': '332',\n",
       " 'honduras': '340',\n",
       " 'hungary': '348',\n",
       " 'iceland': '352',\n",
       " 'india': '356',\n",
       " 'indonesia': '360',\n",
       " 'iran-islamic-republic-of': '364',\n",
       " 'iraq': '368',\n",
       " 'ireland': '372',\n",
       " 'israel': '376',\n",
       " 'italy': '380',\n",
       " 'jamaica': '388',\n",
       " 'japan': '392',\n",
       " 'jordan': '400',\n",
       " 'kazakhstan': '398',\n",
       " 'kenya': '404',\n",
       " 'kiribati': '296',\n",
       " 'kuwait': '414',\n",
       " 'kyrgyzstan': '417',\n",
       " 'lao-peoples-democratic-republic': '418',\n",
       " 'latin-america-and-the-caribbean': '904',\n",
       " 'latvia': '428',\n",
       " 'least-developed-countries': '941',\n",
       " 'lebanon': '422',\n",
       " 'lesotho': '426',\n",
       " 'less-developed-regions': '902',\n",
       " 'less-developed-regions-excluding-china': '948',\n",
       " 'less-developed-regions-excluding-least-developed-c': '934',\n",
       " 'liberia': '430',\n",
       " 'libya': '434',\n",
       " 'lithuania': '440',\n",
       " 'luxembourg': '442',\n",
       " 'madagascar': '450',\n",
       " 'malawi': '454',\n",
       " 'malaysia': '458',\n",
       " 'maldives': '462',\n",
       " 'mali': '466',\n",
       " 'malta': '470',\n",
       " 'martinique': '474',\n",
       " 'mauritania': '478',\n",
       " 'mauritius': '480',\n",
       " 'mayotte': '175',\n",
       " 'melanesia': '928',\n",
       " 'mexico': '484',\n",
       " 'micronesia': '954',\n",
       " 'micronesia-fed-states-of': '583',\n",
       " 'middle-africa': '911',\n",
       " 'mongolia': '496',\n",
       " 'montenegro': '499',\n",
       " 'more-developed-regions': '901',\n",
       " 'morocco': '504',\n",
       " 'mozambique': '508',\n",
       " 'myanmar': '104',\n",
       " 'namibia': '516',\n",
       " 'nepal': '524',\n",
       " 'netherlands': '528',\n",
       " 'new-caledonia': '540',\n",
       " 'new-zealand': '554',\n",
       " 'nicaragua': '558',\n",
       " 'niger': '562',\n",
       " 'nigeria': '566',\n",
       " 'northern-africa': '912',\n",
       " 'northern-america': '905',\n",
       " 'northern-europe': '924',\n",
       " 'norway': '578',\n",
       " 'oceania': '909',\n",
       " 'oman': '512',\n",
       " 'other-non-specified-areas': '158',\n",
       " 'pakistan': '586',\n",
       " 'panama': '591',\n",
       " 'papua-new-guinea': '598',\n",
       " 'paraguay': '600',\n",
       " 'peru': '604',\n",
       " 'philippines': '608',\n",
       " 'poland': '616',\n",
       " 'polynesia': '957',\n",
       " 'portugal': '620',\n",
       " 'puerto-rico': '630',\n",
       " 'qatar': '634',\n",
       " 'republic-of-korea': '410',\n",
       " 'republic-of-moldova': '498',\n",
       " 'réunion': '638',\n",
       " 'romania': '642',\n",
       " 'russian-federation': '643',\n",
       " 'rwanda': '646',\n",
       " 'saint-lucia': '662',\n",
       " 'saint-vincent-and-the-grenadines': '670',\n",
       " 'samoa': '882',\n",
       " 'sao-tome-and-principe': '678',\n",
       " 'saudi-arabia': '682',\n",
       " 'senegal': '686',\n",
       " 'serbia': '688',\n",
       " 'seychelles': '690',\n",
       " 'sierra-leone': '694',\n",
       " 'singapore': '702',\n",
       " 'slovakia': '703',\n",
       " 'slovenia': '705',\n",
       " 'solomon-islands': '90',\n",
       " 'somalia': '706',\n",
       " 'south-africa': '710',\n",
       " 'south-america': '931',\n",
       " 'south-central-asia': '921',\n",
       " 'south-eastern-asia': '920',\n",
       " 'southern-africa': '913',\n",
       " 'southern-asia': '5501',\n",
       " 'southern-europe': '925',\n",
       " 'south-sudan': '728',\n",
       " 'spain': '724',\n",
       " 'sri-lanka': '144',\n",
       " 'state-of-palestine': '275',\n",
       " 'sub-saharan-africa': '947',\n",
       " 'sudan': '729',\n",
       " 'suriname': '740',\n",
       " 'swaziland': '748',\n",
       " 'sweden': '752',\n",
       " 'switzerland': '756',\n",
       " 'syrian-arab-republic': '760',\n",
       " 'tajikistan': '762',\n",
       " 'tfyr-macedonia': '807',\n",
       " 'thailand': '764',\n",
       " 'timor-leste': '626',\n",
       " 'togo': '768',\n",
       " 'tonga': '776',\n",
       " 'trinidad-and-tobago': '780',\n",
       " 'tunisia': '788',\n",
       " 'turkey': '792',\n",
       " 'turkmenistan': '795',\n",
       " 'uganda': '800',\n",
       " 'ukraine': '804',\n",
       " 'united-arab-emirates': '784',\n",
       " 'united-kingdom': '826',\n",
       " 'united-republic-of-tanzania': '834',\n",
       " 'united-states-of-america': '840',\n",
       " 'united-states-virgin-islands': '850',\n",
       " 'uruguay': '858',\n",
       " 'uzbekistan': '860',\n",
       " 'vanuatu': '548',\n",
       " 'venezuela-bolivarian-republic-of': '862',\n",
       " 'viet-nam': '704',\n",
       " 'western-africa': '914',\n",
       " 'western-asia': '922',\n",
       " 'western-europe': '926',\n",
       " 'western-sahara': '732',\n",
       " 'world': '900',\n",
       " 'yemen': '887',\n",
       " 'zambia': '894',\n",
       " 'zimbabwe': '716'}"
      ]
     },
     "execution_count": 16,
     "metadata": {},
     "output_type": "execute_result"
    }
   ],
   "source": [
    "country_keys"
   ]
  },
  {
   "cell_type": "markdown",
   "metadata": {},
   "source": [
    "Here are the coronavirus death rates, courtesy of [worldmeters.info](https://www.worldometers.info/coronavirus/coronavirus-age-sex-demographics/)."
   ]
  },
  {
   "cell_type": "code",
   "execution_count": 17,
   "metadata": {},
   "outputs": [],
   "source": [
    "coronavirus_death_dict_raw={(80,200):0.148,\n",
    "                            (70,79):0.08,\n",
    "                            (60,69):0.036,\n",
    "                            (50,59): 0.013,\n",
    "                            (40,49):0.004,\n",
    "                            (30,39):0.002,\n",
    "                            (20,29): 0.002,\n",
    "                            (0,19):0.002}"
   ]
  },
  {
   "cell_type": "markdown",
   "metadata": {},
   "source": [
    "The information below is courtesy of the [Irish National Economic and Social Council](http://files.nesc.ie/nesc_reports/en/140_Homeownership_and_Rental.pdf)."
   ]
  },
  {
   "cell_type": "code",
   "execution_count": 18,
   "metadata": {},
   "outputs": [],
   "source": [
    "ireland_dict={(0,24):0.091,\n",
    "             (25,34): 0.423,\n",
    "             (35,44):0.689,\n",
    "             (45,54):0.786,\n",
    "             (55,64):0.832,\n",
    "             (65,200):0.866}"
   ]
  },
  {
   "cell_type": "markdown",
   "metadata": {},
   "source": [
    "## Country Code Class"
   ]
  },
  {
   "cell_type": "markdown",
   "metadata": {},
   "source": [
    "Here we define the class `CountryData()` that will hold demographic information and do the necessary calculations. The main thing preventing us from doing this for all countries is a lack of homeownership data (which can probably be found somewhere online, but depending on the country). This class could be used a number of ways. The total number of homes for the US can be found on the US Census website or from the [UNECE](https://w3.unece.org/PXWeb2015/pxweb/en/STAT/STAT__30-GE__02-Families_households) (which also has information for many other countries)."
   ]
  },
  {
   "cell_type": "markdown",
   "metadata": {},
   "source": [
    "Now, the demographic data from populationpyramid.net has small cohorts, but often the homeownership information and the death rate information comes with larger cohort sizes. For this reason we must to store this information differently in the class in order to keep track of all the different dictionaries. Essentially, the class below cleans up a lot of the data analysis."
   ]
  },
  {
   "cell_type": "markdown",
   "metadata": {},
   "source": [
    "### Function definitions:"
   ]
  },
  {
   "cell_type": "markdown",
   "metadata": {},
   "source": [
    "Below, 'age cohort' means an age group, e.g. everyone between the ages of 20 and 25 (including 20, but not 25).\n",
    "\n",
    "* `show population`: returns a dataframe containing each age cohort's population size.\n",
    "\n",
    "* `show_homeownership_rates`:  returns a dataframe containing the information in the `homeownership_rates_dict`, giving the rate of homeonwership for age cohorts (note: the cohort partitioning may be different from that above).\n",
    "\n",
    "* `show_homeownership_share`:  returns a dataframe containing each age cohort's share of total homeowners.\n",
    "\n",
    "* `show_death_rates_by_age_cohort`:  returns a dataframe containing each age cohort's death rate, per the death rate dictionary.\n",
    "\n",
    "* `get_vacant_homes`: takes an infection rate (total proportion of population infected) and returns the number of vacant homes given this rate (needs a death rate dictionary first). Note that this also requires `self.total_homes` to be filled in with external data in order to estimate the correction factor of homes to homeowners.\n",
    "\n",
    "* `get_population_deaths`: takes an infection rate and optionally a death rate dictionary (only put this in if it doesnot already have one) and returns the expected number of people in each age cohort that would die at that infection rate and age cohort death rate.\n",
    "\n",
    "* `get_home_ownership_dictionary`: takes a dictionary of homeownership rates for different age cohorts in a population and works out the proportion of total homeowners in each age cohort, which is then stored as `self.house_ownership_share_dict`. Note that the age cohorts may be wider for the housing dictionary (the code takes care of this).\n",
    "\n",
    "* `house_ownership_share_dict`: this is the main use of the `CountryData` class. Given a death rate dictionary (and once the `get_home_ownership_dictionary` method has been run to get homeownership shares across age cohorts) this calculates the homeowner death rate for each age cohort and stores it so the `get_vacant_homes` method can be called."
   ]
  },
  {
   "cell_type": "code",
   "execution_count": 19,
   "metadata": {},
   "outputs": [],
   "source": [
    "class CountryData(object):\n",
    "    def __init__(self, country_code, year=2019):\n",
    "        self.pop_dict=None\n",
    "        self.house_ownership_rates_dict=None\n",
    "        self.house_ownership_share_dict=None\n",
    "        self.total_homeowners=0\n",
    "        self.total_population=0\n",
    "        self.death_dict=None\n",
    "        self.total_homeowners_dead_max=0\n",
    "        self.homeowner_cohort_death_rates_dict=None\n",
    "        self.infection_rate=1\n",
    "        self.total_homes=0\n",
    "        self.total_homes_vacant=0\n",
    "        self.population_death_dict=None\n",
    "        \n",
    "        url='https://www.populationpyramid.net/api/pp/'+country_code+'/'+str(year)+'/'\n",
    "        raw_pop_data=requests.get(url)\n",
    "        raw_pop_data=json.loads(raw_pop_data.text)\n",
    "        sexes={'male','female'}\n",
    "        pop_dict={}\n",
    "        for sex in sexes:\n",
    "            for entry in raw_pop_data[sex]:\n",
    "                if '-' in entry['k']:\n",
    "                    pair=tuple(map(int, entry['k'].split('-')))\n",
    "                else:\n",
    "                    pair=(100,200)\n",
    "                if pair not in pop_dict:\n",
    "                    pop_dict[pair]=entry['v']*1000\n",
    "                else:\n",
    "                    pop_dict[pair]+=entry['v']*1000\n",
    "        self.pop_dict=pop_dict\n",
    "        self.total_population=sum(pop_dict.values())\n",
    "        del pop_dict, raw_pop_data, url, sexes\n",
    "        \n",
    "    def show_population(self):\n",
    "        return pd.DataFrame.from_dict(self.pop_dict, orient='index', columns=['population_size'])\n",
    "    def show_homeownership_rates(self):\n",
    "        return pd.DataFrame.from_dict(self.house_ownership_rates_dict, orient='index', columns=['proportion_of_which_own_a_house'])\n",
    "    def show_homeownership_share(self):\n",
    "        return pd.DataFrame.from_dict(self.house_ownership_share_dict, orient='index', columns=['share_of_housing_stock'])\n",
    "    def show_death_rates_by_age_cohort(self):\n",
    "        return pd.DataFrame.from_dict(self.death_dict, orient='index', columns=['death_rate'])\n",
    "    \n",
    "    def get_vacant_homes(self, infection_rate):\n",
    "        if self.total_homeowners==0:\n",
    "            print('Calculate number of homeowners first')\n",
    "        homes_to_owners_ratio=self.total_homes/self.total_homeowners\n",
    "        self.total_homes_vacant=self.total_homeowners_dead_max*homes_to_owners_ratio*infection_rate\n",
    "        self.infection_rate=infection_rate\n",
    "        return self.total_homes_vacant\n",
    "    \n",
    "    def get_population_deaths(self,infection_rate, death_rate_dict=None):\n",
    "        if not death_rate_dict:\n",
    "            death_rate_dict=self.death_dict\n",
    "        else:\n",
    "            self.death_dict=death_rate_dict\n",
    "        death_dict_expanded={key:0 for key in self.pop_dict}\n",
    "        self.population_death_dict={}\n",
    "        for small_key in death_dict_expanded:\n",
    "            for big_key in self.death_dict:\n",
    "                if small_key[0]>=big_key[0] and small_key[1]<=big_key[1]:\n",
    "                    death_dict_expanded[small_key]=self.death_dict[big_key]\n",
    "                    self.population_death_dict[small_key]=death_dict_expanded[small_key]*self.pop_dict[small_key]\n",
    "        death_dict_with_infection={key: self.population_death_dict[key]*infection_rate for key in self.population_death_dict}\n",
    "        del death_dict_expanded\n",
    "        return pd.DataFrame.from_dict(death_dict_with_infection, orient='index', columns=['deaths'])\n",
    "        \n",
    "    def get_home_ownership_dictionary(self, dictionary):\n",
    "        self.house_ownership_rates_dict=dictionary\n",
    "        if self.pop_dict!=None and self.house_ownership_rates_dict!=None:\n",
    "            home_dict={key:0 for key in self.house_ownership_rates_dict}\n",
    "            for key in self.pop_dict:\n",
    "                for h_key in home_dict:\n",
    "                    if key[0]>=h_key[0] and key[1]<=h_key[1]:\n",
    "                        home_dict[h_key]+=self.pop_dict[key]*self.house_ownership_rates_dict[h_key]\n",
    "            total_homes=sum(home_dict.values())\n",
    "            self.total_homeowners=total_homes\n",
    "            for key in home_dict:\n",
    "                home_dict[key]/=total_homes\n",
    "            self.house_ownership_share_dict=home_dict\n",
    "            del home_dict\n",
    "        else:\n",
    "            print('Need both a population dictionary and home ownership rate dictionary.')\n",
    "            \n",
    "            \n",
    "    def get_homeowner_death_rates(self,death_rate_dict):\n",
    "        self.death_dict=death_rate_dict\n",
    "        if self.pop_dict==None or self.house_ownership_share_dict==None or self.death_dict==None:\n",
    "            if self.pop_dict==None:\n",
    "                print('Need population dictionary')\n",
    "            if self.house_ownership_share_dict==None:\n",
    "                print('Need to calculate home ownership share dictionary')\n",
    "            if self.death_dict==None:\n",
    "                print('Need death rate dictionary')\n",
    "        else:\n",
    "            death_dict_expanded={key:0 for key in self.pop_dict}\n",
    "            self.population_death_dict={}\n",
    "            for small_key in death_dict_expanded:\n",
    "                for big_key in self.death_dict:\n",
    "                    if small_key[0]>=big_key[0] and small_key[1]<=big_key[1]:\n",
    "                        death_dict_expanded[small_key]=self.death_dict[big_key]\n",
    "                        self.population_death_dict[small_key]=death_dict_expanded[small_key]*self.pop_dict[small_key]\n",
    "\n",
    "            home_death_dict={key:0 for key in self.house_ownership_share_dict}\n",
    "            for big_key in home_death_dict:\n",
    "                little_key=(big_key[0],big_key[0]+4)\n",
    "                weighted_death_rate=0\n",
    "                normalizer=0\n",
    "                while little_key[1]<=big_key[1]:\n",
    "                    weighted_death_rate+=self.pop_dict[little_key]*death_dict_expanded[little_key]\n",
    "                    normalizer+=self.pop_dict[little_key]\n",
    "                    little_key=(little_key[0]+5, little_key[1]+5)\n",
    "                    if little_key[1]==104:\n",
    "                        little_key=(100,200)\n",
    "                normalizer=max(normalizer,1)\n",
    "                weighted_death_rate/=normalizer\n",
    "                home_death_dict[big_key]=self.house_ownership_share_dict[big_key]*weighted_death_rate\n",
    "            self.homeowner_cohort_death_rates_dict=home_death_dict\n",
    "            self.total_homeowners_dead_max=sum(self.homeowner_cohort_death_rates_dict.values())*self.total_homeowners\n",
    "            del home_death_dict, normalizer, weighted_death_rate, death_dict_expanded"
   ]
  }
 ],
 "metadata": {
  "kernelspec": {
   "display_name": "Python 3",
   "language": "python",
   "name": "python3"
  },
  "language_info": {
   "codemirror_mode": {
    "name": "ipython",
    "version": 3
   },
   "file_extension": ".py",
   "mimetype": "text/x-python",
   "name": "python",
   "nbconvert_exporter": "python",
   "pygments_lexer": "ipython3",
   "version": "3.7.4"
  }
 },
 "nbformat": 4,
 "nbformat_minor": 2
}
